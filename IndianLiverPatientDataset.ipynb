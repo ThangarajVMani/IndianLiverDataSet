{
  "nbformat": 4,
  "nbformat_minor": 0,
  "metadata": {
    "colab": {
      "provenance": [],
      "authorship_tag": "ABX9TyMEelmphxvSEQtjy+3+LU6l",
      "include_colab_link": true
    },
    "kernelspec": {
      "name": "python3",
      "display_name": "Python 3"
    },
    "language_info": {
      "name": "python"
    }
  },
  "cells": [
    {
      "cell_type": "markdown",
      "metadata": {
        "id": "view-in-github",
        "colab_type": "text"
      },
      "source": [
        "<a href=\"https://colab.research.google.com/github/ThangarajVMani/IndianLiverDataSet/blob/main/IndianLiverPatientDataset.ipynb\" target=\"_parent\"><img src=\"https://colab.research.google.com/assets/colab-badge.svg\" alt=\"Open In Colab\"/></a>"
      ]
    },
    {
      "cell_type": "code",
      "source": [
        "pip install ucimlrepo"
      ],
      "metadata": {
        "colab": {
          "base_uri": "https://localhost:8080/"
        },
        "id": "DHwON7x67mXi",
        "outputId": "c843ec33-4865-473a-e08e-4fbc9871d49b"
      },
      "execution_count": 2,
      "outputs": [
        {
          "output_type": "stream",
          "name": "stdout",
          "text": [
            "Collecting ucimlrepo\n",
            "  Downloading ucimlrepo-0.0.7-py3-none-any.whl (8.0 kB)\n",
            "Requirement already satisfied: pandas>=1.0.0 in /usr/local/lib/python3.10/dist-packages (from ucimlrepo) (2.0.3)\n",
            "Requirement already satisfied: certifi>=2020.12.5 in /usr/local/lib/python3.10/dist-packages (from ucimlrepo) (2024.6.2)\n",
            "Requirement already satisfied: python-dateutil>=2.8.2 in /usr/local/lib/python3.10/dist-packages (from pandas>=1.0.0->ucimlrepo) (2.8.2)\n",
            "Requirement already satisfied: pytz>=2020.1 in /usr/local/lib/python3.10/dist-packages (from pandas>=1.0.0->ucimlrepo) (2023.4)\n",
            "Requirement already satisfied: tzdata>=2022.1 in /usr/local/lib/python3.10/dist-packages (from pandas>=1.0.0->ucimlrepo) (2024.1)\n",
            "Requirement already satisfied: numpy>=1.21.0 in /usr/local/lib/python3.10/dist-packages (from pandas>=1.0.0->ucimlrepo) (1.25.2)\n",
            "Requirement already satisfied: six>=1.5 in /usr/local/lib/python3.10/dist-packages (from python-dateutil>=2.8.2->pandas>=1.0.0->ucimlrepo) (1.16.0)\n",
            "Installing collected packages: ucimlrepo\n",
            "Successfully installed ucimlrepo-0.0.7\n"
          ]
        }
      ]
    },
    {
      "cell_type": "code",
      "source": [
        "from ucimlrepo import fetch_ucirepo\n",
        "\n",
        "# fetch dataset\n",
        "ilpd_indian_liver_patient_dataset = fetch_ucirepo(id=225)"
      ],
      "metadata": {
        "id": "mQwmxUNW7wjF"
      },
      "execution_count": 3,
      "outputs": []
    },
    {
      "cell_type": "code",
      "source": [
        "# data (as pandas dataframes)\n",
        "X = ilpd_indian_liver_patient_dataset.data.features\n",
        "y = ilpd_indian_liver_patient_dataset.data.targets\n",
        "\n",
        "# metadata\n",
        "print(ilpd_indian_liver_patient_dataset.metadata)"
      ],
      "metadata": {
        "colab": {
          "base_uri": "https://localhost:8080/"
        },
        "id": "8HnFKJlv71rY",
        "outputId": "62b4406b-d071-4968-a51b-cd55c323b573"
      },
      "execution_count": 4,
      "outputs": [
        {
          "output_type": "stream",
          "name": "stdout",
          "text": [
            "{'uci_id': 225, 'name': 'ILPD (Indian Liver Patient Dataset)', 'repository_url': 'https://archive.ics.uci.edu/dataset/225/ilpd+indian+liver+patient+dataset', 'data_url': 'https://archive.ics.uci.edu/static/public/225/data.csv', 'abstract': 'Death by liver cirrhosis continues to increase, given the increase in alcohol consumption rates, chronic hepatitis infections, and obesity-related liver disease. Notwithstanding the high mortality of this disease, liver diseases do not affect all sub-populations equally. The early detection of pathology is a determinant of patient outcomes, yet female patients appear to be marginalized when it comes to early diagnosis of liver pathology. \\nThe dataset comprises 584 patient records collected from the NorthEast of Andhra Pradesh, India.\\nThe prediction task is to determine whether a patient suffers from liver disease based on the information about several biochemical markers, including albumin and other enzymes required for metabolism.\\n', 'area': 'Health and Medicine', 'tasks': ['Classification'], 'characteristics': ['Multivariate'], 'num_instances': 583, 'num_features': 10, 'feature_types': ['Integer', 'Real'], 'demographics': ['Age', 'Gender'], 'target_col': ['Selector'], 'index_col': None, 'has_missing_values': 'no', 'missing_values_symbol': None, 'year_of_dataset_creation': 2022, 'last_updated': 'Fri Nov 03 2023', 'dataset_doi': '10.24432/C5D02C', 'creators': ['Bendi Ramana', 'N. Venkateswarlu'], 'intro_paper': {'title': 'Investigating for bias in healthcare algorithms: a sex-stratified analysis of supervised machine learning models in liver disease prediction', 'authors': 'I. Straw, Honghan Wu', 'published_in': 'BMJ Health & Care Informatics', 'year': 2022, 'url': 'https://www.semanticscholar.org/paper/df37b91a72fb4fb11dc9ac3d63c1479428e4f14d', 'doi': '10.1136%2Fbmjhci-2021-100457'}, 'additional_info': {'summary': \"This data set contains records of 416 patients diagnosed with liver disease and 167 patients without liver disease. This information is contained in the class label named 'Selector'.  There are 10 variables per patient: age, gender, total Bilirubin, direct Bilirubin, total proteins, albumin, A/G ratio, SGPT, SGOT and Alkphos. Of the 583 patient records, 441 are male, and 142 are female. \\n\\nThe current dataset has been used to study \\n- differences in patients across US and Indian patients that suffer from liver diseases.\\n- gender-based disparities in predicting liver disease, as previous studies have found that biochemical markers do not have the same effectiveness for male and female patients.\\n\", 'purpose': None, 'funded_by': None, 'instances_represent': 'Medical patients', 'recommended_data_splits': None, 'sensitive_data': 'Yes. The data contains information about the age and gender of the patients.', 'preprocessing_description': 'Any patient whose age exceeded 89 is listed as being of age \"90\".', 'variable_info': None, 'citation': 'The original dataset was first proposed by Ramana et al. (2012) as a critical comparison of patients across USA and India:\\nRamana, Bendi & Surendra, M & Babu, Prasad & Bala Venkateswarlu, Nagasuri. (2012). A Critical Comparative Study of Liver Patients from USA and INDIA: An Exploratory Analysis. International Journal of Computer Science. 9. '}}\n"
          ]
        }
      ]
    },
    {
      "cell_type": "code",
      "source": [
        "# variable information\n",
        "print(ilpd_indian_liver_patient_dataset.variables)"
      ],
      "metadata": {
        "colab": {
          "base_uri": "https://localhost:8080/"
        },
        "id": "oJyfKmNa8L0l",
        "outputId": "e82980d9-da82-45b6-e219-a590950fa16c"
      },
      "execution_count": 5,
      "outputs": [
        {
          "output_type": "stream",
          "name": "stdout",
          "text": [
            "         name     role        type demographic  \\\n",
            "0         Age  Feature     Integer         Age   \n",
            "1      Gender  Feature      Binary      Gender   \n",
            "2          TB  Feature  Continuous        None   \n",
            "3          DB  Feature  Continuous        None   \n",
            "4     Alkphos  Feature     Integer        None   \n",
            "5        Sgpt  Feature     Integer        None   \n",
            "6        Sgot  Feature     Integer        None   \n",
            "7          TP  Feature  Continuous        None   \n",
            "8         ALB  Feature  Continuous        None   \n",
            "9   A/G Ratio  Feature  Continuous        None   \n",
            "10   Selector   Target      Binary        None   \n",
            "\n",
            "                                          description  units missing_values  \n",
            "0   Age of the patient. Any patient whose age exce...  years             no  \n",
            "1                               Gender of the patient   None             no  \n",
            "2                                     Total Bilirubin   None             no  \n",
            "3                                    Direct Bilirubin   None             no  \n",
            "4                                Alkaline Phosphotase   None             no  \n",
            "5                            Alamine Aminotransferase   None             no  \n",
            "6                          Aspartate Aminotransferase   None             no  \n",
            "7                                      Total Proteins   None             no  \n",
            "8                                             Albumin   None             no  \n",
            "9                          Albumin and Globulin Ratio   None             no  \n",
            "10  Selector field used to split the data into two...   None             no  \n"
          ]
        }
      ]
    }
  ]
}